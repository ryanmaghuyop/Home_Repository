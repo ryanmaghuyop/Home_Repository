{
  "nbformat": 4,
  "nbformat_minor": 0,
  "metadata": {
    "colab": {
      "provenance": []
    },
    "kernelspec": {
      "name": "python3",
      "display_name": "Python 3"
    }
  },
  "cells": [
    {
      "cell_type": "markdown",
      "metadata": {
        "id": "G0BcK0H_G1Iu"
      },
      "source": [
        "# **AP155 Lab Assignment**\n",
        "## Module 1: Integrals and Derivatives\n",
        "\n",
        "_Instructions_: Answer each problem as completely as you can. Discuss **all** your answers as clearly and concisely as possible.\n",
        "\n",
        "_Scoring Criteria_: 50% - *correctness of code*; 50% - *discussion of the code and results*. Maximum score is **100 points**.\n",
        "\n",
        "\n"
      ]
    },
    {
      "cell_type": "markdown",
      "metadata": {
        "id": "PeHZ9kP8JaVR"
      },
      "source": [
        "### Student Information\n",
        "\n",
        "_Full Name (Last Name, First Name)_: Ryan Anthony G. Maghuyop \\\n",
        "_Student No._: 2020-03987 \\\n",
        "_Section_: THU-HX-3 \\"
      ]
    },
    {
      "cell_type": "markdown",
      "metadata": {
        "id": "Hc183co-J4eI"
      },
      "source": [
        "### Submission Information\n",
        "\n",
        "_Date and Time Submitted (most recent upload)_:\n",
        "\n",
        "**HONOR PLEDGE** I affirm that I have upheld the highest principles of honesty and integrity in my academic work and that this lab assignment is my own work.\n",
        "\n",
        "**Sign here with your full name:** Ryan Anthony G. Maghuyop"
      ]
    },
    {
      "cell_type": "markdown",
      "metadata": {
        "id": "X1UGsRpW-eQs"
      },
      "source": [
        "### Grading Information (c/o Lab Instructor)\n",
        "\n",
        "TOTAL SCORE: **XX**/100\n",
        "\n",
        "Score breakdown:\n",
        "* Problem 1 - XX/30\n",
        "* Problem 2 - XX/30\n",
        "* Problem 3 - XX/40\n",
        "\n",
        "_Date and Time Scored (MM/DD/YYYY HH:MM AM/PM):_"
      ]
    },
    {
      "cell_type": "markdown",
      "metadata": {
        "id": "LxWuqiCFMsEh"
      },
      "source": [
        "### PROBLEM 1\n",
        "**Integration using the trapezoidal rule and Simpson's rule**\n",
        "\n",
        "Calculate the integral of the function $ 2x^4 + 3x^2 + 4x + 5$ from $x=0$ to $x=5$.\n",
        "\n",
        "1. Do the numerical calculation using the trapezoidal rule with 10, 100, and 1,000 slices. Describe each step of the calculation clearly and concisely. *(10 pts.)*\n",
        "\n",
        "2. What are the percentage errors of your answers in (1)? *(10 pts.)*\n",
        "\n",
        "3. Repeat the calculation using Simpson's rule with 10, 100, and 1,000 slices. Describe each step of the calculation clearly and concisely. *(5 pts.)*\n",
        "\n",
        "4. What are the percentage errors of your answers in (3)? How do they compare with the results from (1) for the same number of slices? *(5 pts.)*"
      ]
    },
    {
      "cell_type": "code",
      "source": [
        "import numpy as np\n",
        "import matplotlib.pyplot as plt"
      ],
      "metadata": {
        "id": "aAfY5uHjJ77g"
      },
      "execution_count": null,
      "outputs": []
    },
    {
      "cell_type": "code",
      "metadata": {
        "id": "hMqWOsbIMoUh",
        "colab": {
          "base_uri": "https://localhost:8080/"
        },
        "outputId": "6223d2c9-622e-40e8-cc1c-9164f0ec53d9"
      },
      "source": [
        "#1. and 2.\n",
        "N = 10\n",
        "a = 0.0\n",
        "b = 5.0\n",
        "\n",
        "#The exact answer is\n",
        "S = 1450\n",
        "\n",
        "def f(x): #Given polynomial function\n",
        "  return 2*x**4 + 3*x**2 + 4*x + 5\n",
        "\n",
        "def integ_trap(N, a, b): #(1)\n",
        "  s = 0.5*f(a) + 0.5*f(b)\n",
        "  h = (b-a)/N\n",
        "  for k in range(1,N):\n",
        "    s += f(a+k*h)\n",
        "  return(s*h)\n",
        "\n",
        "for j in range(1,4): #(2)\n",
        "  N = 10**j\n",
        "  error_t = (integ_trap(N,a,b) - S)*100/S\n",
        "  print(\"The numerical calculation using the trapezoidal rule using \" + str(N) + \" slices is \" + str(integ_trap(N,a,b)) + \". The % error is \" + str(error_t) + \".\")\n",
        "\n",
        "#3. and 4.\n",
        "def integ_simp(N, a, b):\n",
        "  h = (b-a)/N\n",
        "  s = f(a) + f(b)\n",
        "  for k in range(1,N,2):\n",
        "    s += 4*f(a+k*h)\n",
        "  for k in range(2,N,2):\n",
        "    s += 2*f(a+k*h)\n",
        "  s = s*(1./3)*h\n",
        "  return(s)\n",
        "\n",
        "for j in range(1,4):\n",
        "    N = 10**j\n",
        "    error_s = (integ_simp(N,a,b) - S)*100/S\n",
        "    print(\"The numerical calculation using Simpson's rule using \" + str(N) + \" slices is \" + str(integ_simp(N,a,b)) + \". The % error is \" + str(error_s) + \".\")\n"
      ],
      "execution_count": null,
      "outputs": [
        {
          "output_type": "stream",
          "name": "stdout",
          "text": [
            "The numerical calculation using the trapezoidal rule using 10 slices is 1471.4375. The % error is 1.478448275862069.\n",
            "The numerical calculation using the trapezoidal rule using 100 slices is 1450.2145812500003. The % error is 0.01479870689656999.\n",
            "The numerical calculation using the trapezoidal rule using 1000 slices is 1450.0021458331234. The % error is 0.00014798849127240326.\n",
            "The numerical calculation using Simpson's rule using 10 slices is 1450.0833333333333. The % error is 0.005747126436776382.\n",
            "The numerical calculation using Simpson's rule using 100 slices is 1450.0000083333337. The % error is 5.747126657485657e-07.\n",
            "The numerical calculation using Simpson's rule using 1000 slices is 1450.0000000008342. The % error is 5.753338035870472e-11.\n"
          ]
        }
      ]
    },
    {
      "cell_type": "markdown",
      "source": [
        "1 and 2. This is just the exact formulation of the trapezoidal rule. \\\n",
        "  (1) We define the trapezoidal rule as a function with the number of slices, lower and upper bound of the integral as inputs. \\\n",
        "  (2) We loop $N = 10^j$ for $j$ from 1-3 to get 10, 100, and 1000 slices for our function. We use each value of N to print the value of *integ_trap* and *error_t*. \\\n",
        "Increasing the number of slices by a factor of $10^a$ decreases the % error by a factor of $10^{2a}$.\n",
        "\n",
        "3 and 4. Similarly, this is just the exact formulation of the Simpson's rule. We follow the same template from the first part. Notice that the % error when using the Simpson's rule is lower compared to the trapezoidal rule for similar numbers of slices. Increasing the number of slices by a factor of $10^a$ decreases the % error by a factor of $10^{4a}$."
      ],
      "metadata": {
        "id": "eA6LUZI2iLmJ"
      }
    },
    {
      "cell_type": "markdown",
      "metadata": {
        "id": "m2a6sg90R-NX"
      },
      "source": [
        "### PROBLEM 2\n",
        "\n",
        "**Integration using Gaussian quadrature**\n",
        "\n",
        "Calculate the integral from Problem 1 using the Gaussian quadrature method: $ 2x^4 + 3x^2 + 4x + 5$ from $x=0$ to $x=5$.\n",
        "\n",
        "1. Define the function $\\tt gaussxw$ from Appendix E of the Newman text (and run the cell). *(10 pts.)*\n",
        "\n",
        "2. Calculate the integral using the $\\tt gaussxw$ function in (1) and number of slices $N = 3$. Describe each step in the calculation clearly and concisely. *(20 pts.)*"
      ]
    },
    {
      "cell_type": "code",
      "source": [
        "#1.\n",
        "def gaussxw(N):\n",
        "  #Initial approximation to roots of the Legendre polynomial\n",
        "  a = np.linspace(3,4*N-1,N)/(4*N+2)\n",
        "  x = np.cos(np.pi*a+1/(8*N*N*np.tan(a)))\n",
        "\n",
        "  #Find roots using Newton's method\n",
        "  epsilon = 1e-15\n",
        "  delta = 1.0\n",
        "  while delta>epsilon:\n",
        "    p0 = np.ones(N,float)\n",
        "    p1 = np.copy(x)\n",
        "    for k in range(1,N):\n",
        "      p0,p1 = p1,((2*k+1)*x*p1-k*p0)/(k+1)\n",
        "    dp = (N+1)*(p0-x*p1)/(1-x*x)\n",
        "    dx = p1/dp\n",
        "    x -= dx\n",
        "    delta= max(abs(dx))\n",
        "\n",
        "  # Calculate the weights\n",
        "  w = 2*(N+1)*(N+1)/(N*N*(1-x*x)*dp*dp)\n",
        "\n",
        "  return x,w\n",
        "\n",
        "def gaussxwab(N,a,b):\n",
        "  x,w = gaussxw(N)\n",
        "  u = 0.5*(b-a)*x+0.5*(b+a)\n",
        "  v = 0.5*(b-a)*w\n",
        "  return u,v\n",
        "\n",
        "#2.\n",
        "N = 3\n",
        "a = 0\n",
        "b = 5\n",
        "\n",
        "def integ_gaussq(N,a,b,func): #(1)\n",
        "  u,v = gaussxwab(N,a,b)\n",
        "  s = 0\n",
        "  s += func(u)*v\n",
        "  return sum(s)\n",
        "\n",
        "error_g = (integ_gaussq(N,a,b,f) - S)*100/S #% error of Gaussian quadrature method\n",
        "\n",
        "print(\"The numerical calculation using Gaussian quadrature using \" + str(N) + \" slices is \" + str(integ_gaussq(N,a,b,f)) + \". The % error is \" + str(error_g) + \".\")"
      ],
      "metadata": {
        "colab": {
          "base_uri": "https://localhost:8080/"
        },
        "id": "xyhPzeEIRdw8",
        "outputId": "f8677f9a-eb31-41fc-a986-f31bec244b28"
      },
      "execution_count": 190,
      "outputs": [
        {
          "output_type": "stream",
          "name": "stdout",
          "text": [
            "The numerical calculation using Gaussian quadrature using 3 slices is 1450.000000000002. The % error is 1.4112848820614404e-13.\n"
          ]
        }
      ]
    },
    {
      "cell_type": "markdown",
      "source": [
        "(1) To take the integral of a function using Gaussian quadrature, we first take the outputs of the defined *gaussxwab* function $u$ and $v$, corresponding to the sample points $x_k$ and the corresponding weights $w_k$, respectively. Note that both $u$ and $v$ here are arrays with $N$ elements. We then simply multiply the matching $f(x_k)$'s and $w_k$'s and add the elements of the resulting array to get the integral approximation.\n",
        "\n",
        "Note that despite only using 3 slices, the degree of error using this method is two magnitudes lower than the Simpson's rule using 1000 slices.\n"
      ],
      "metadata": {
        "id": "UzI-VPx2Yb8R"
      }
    },
    {
      "cell_type": "markdown",
      "metadata": {
        "id": "HceOjNu-VfN9"
      },
      "source": [
        "### PROBLEM 3\n",
        "\n",
        "**Physics Application: Anharmonic Oscillator**\n",
        "\n",
        "_Refer to Exercise 5.10 of the Newman text._ Consider an anharmonic oscillator with potential $V(x)$ symmetric about $x = 0$. Let us set our anharmonic oscillator going with amplitude $a$. That is, at $t = 0$ we release it from rest at position $x = a$ and it swings back towards the origin. Then at $t = 0$ we have $dx/dt = 0$ and the equation for its total energy becomes $E = V(a)$, i.e., the total energy of the particle is given in terms of the amplitude.\n",
        "\n",
        "When the particle reaches the origin for the first time, it has gone through one quarter of a period of the oscillator. The period $T$ is given by: $$ T = \\sqrt{8m} \\int_0^a \\frac{dx}{\\sqrt{V(a)-V(x)}}. $$\n",
        "\n",
        "1. Suppose the potential is $V(x) = x^4$ and the mass of the particle is $m = 1$. Write a Python function that calculates the period of the oscillator for given amplitude a using Gaussian quadrature with $N = 20$ points. Describe each step clearly and concisely. *(20 pts.)*\n",
        "\n",
        "2. Use your function to make a graph of the period for amplitudes ranging from $a = 0$ to $a = 2$. Describe the behavior you find and explain these results clearly and concisely. *(20 pts.)*"
      ]
    },
    {
      "cell_type": "code",
      "metadata": {
        "id": "p28JF-OQYock",
        "colab": {
          "base_uri": "https://localhost:8080/",
          "height": 472
        },
        "outputId": "d774a285-bbf1-4a68-c113-1513256d29e1"
      },
      "source": [
        "from matplotlib import color_sequences\n",
        "#1.\n",
        "m = 1\n",
        "N = 20\n",
        "\n",
        "def V(x):# Given potential function\n",
        "  return x**4\n",
        "\n",
        "def V1(x): #Sample potential function for comparison of results\n",
        "  return 2*x\n",
        "\n",
        "def T(b, func): #Period function. I put an extra \"func\" input here to allow for comparison of other potential functions.\n",
        "  a = 0 #Lower bound of integral, not to be confused with the amplitude b. We can hard code this inside the function since the lower bound in the definition of the period is set to zero.\n",
        "  def integrand(x): #Function inside the integral, to be used as input \"func\"\n",
        "    return (np.sqrt(func(b)-func(x)))**(-1)\n",
        "  return np.sqrt(8*m)*integ_gaussq(N,a,b,integrand)\n",
        "\n",
        "#2.\n",
        "\n",
        "x = np.linspace(0.01,2,100) #Range of values for amplitude b. I decided to start with 0.01 to avoid NaN error for b=0.\n",
        "t = [] #Empty list to be appended with values of T(b)\n",
        "t1 = [] #Another empty list for T(b) values of the sample potential function.\n",
        "for k in x:\n",
        "  t.append(T(k,V))\n",
        "  t1.append(T(k,V1))\n",
        "fig, ax = plt.subplots()\n",
        "ax.set_xlabel(\"Amplitude\")\n",
        "ax.set_ylabel(\"Period\")\n",
        "ax.plot(x,t, color = 'blue', label = '$x^4$')\n",
        "ax.tick_params(axis='y', labelcolor = 'blue')\n",
        "ax.set_title(\"Period of an anharmonic oscillator\")\n",
        "\n",
        "ax1 = ax.twinx() #Sample potential for comparison\n",
        "ax1.tick_params(axis='y', labelcolor = 'red')\n",
        "ax1.plot(x,t1, color = 'red', label = '$2x$')\n",
        "ax.legend(loc='upper right', bbox_to_anchor=(1, 0.9)) #Set location manually for better visualization\n",
        "ax1.legend(loc='upper right', bbox_to_anchor=(1, 0.8)) #Set location manually for better visualization\n",
        "plt.show()"
      ],
      "execution_count": 186,
      "outputs": [
        {
          "output_type": "display_data",
          "data": {
            "text/plain": [
              "<Figure size 640x480 with 2 Axes>"
            ],
            "image/png": "[encoded data removed]"
          },
          "metadata": {}
        }
      ]
    },
    {
      "cell_type": "markdown",
      "source": [
        "As seen in the graph, there exists an inverse relationship between the period and the amplitude of an anharmonic oscillator, for the given potential $V(x) = x^4$. As seen in the graph, for a potential function $V(x) = 2x$, we see that as the amplitude increases, the period also increases. This is due to the integral in the expression for the period. \\\\\n",
        "\n",
        "\\begin{split}\n",
        "T &= \\sqrt{8m} \\int_0^a \\frac{dx}{\\sqrt{V(a) - V(x)}} \\\\\n",
        "&\\sim EllipticF(sin^{-1}\\left(\\frac{x}{2}\\right),-1) \\  \\text{ for $V(x) = x^4$ at $a=2$}\\\\\n",
        "&= 4(\\sqrt{a}-\\sqrt{a-2}) \\qquad \\text{ for $V(x) = 2x$}\n",
        "\\end{split}\n",
        "\n",
        "It turns out, solving the integral analytically for $V(x) = x^4$ results into an elliptic function of the first kind. Plugging in values of $a$ from $0$ to $2$ results in this asymptotic looking graph with decreasing values for increasing $a$. Solving the integral analytically for $V(x) = 2x$ results in $T \\sim \\sqrt{a}-\\sqrt{a-2}$, which explains the direct relationship for this sample potential."
      ],
      "metadata": {
        "id": "W4QcDO-EJWdB"
      }
    }
  ]
}