{
 "cells": [
  {
   "cell_type": "markdown",
   "metadata": {
    "id": "G0BcK0H_G1Iu"
   },
   "source": [
    "# **AP155 Lab Assignment**\n",
    "## Module 2: Solution of Linear and Nonlinear Equations\n",
    "\n",
    "_Instructions_: Answer each problem as completely as you can. Discuss **all** your answers as clearly and concisely as possible.\n",
    "\n",
    "_Scoring Criteria_: 50% - *correctness of code*; 50% - *discussion of the code and results*. Maximum score is **100 points**.\n",
    "\n"
   ]
  },
  {
   "cell_type": "markdown",
   "metadata": {
    "id": "PeHZ9kP8JaVR"
   },
   "source": [
    "### Student Information\n",
    "\n",
    "_Full Name (Last Name, First Name)_: Ryan Anthony G. Maghuyop\\\n",
    "_Student No._: 2020-03987\\\n",
    "_Section_: THU-HX-3"
   ]
  },
  {
   "cell_type": "markdown",
   "metadata": {
    "id": "Hc183co-J4eI"
   },
   "source": [
    "### Submission Information\n",
    "\n",
    "_Date and Time Submitted (most recent upload)_: Nov. 9 - 12:32 am\n",
    "\n",
    "**HONOR PLEDGE** I affirm that I have upheld the highest principles of honesty and integrity in my academic work and that this lab assignment is my own work.\n",
    "\n",
    "**Sign here with your full name:** Ryan Anthony G. Maghuyop"
   ]
  },
  {
   "cell_type": "markdown",
   "metadata": {
    "id": "4LUwfsfMBmvd"
   },
   "source": [
    "### Grading Information (c/o Lab Instructor)\n",
    "\n",
    "TOTAL SCORE: **XX**/100\n",
    "\n",
    "Score breakdown:\n",
    "* Problem 1 - 30/30\n",
    "* Problem 2 - 25/30\n",
    "* Problem 3 - 40/40"
   ]
  },
  {
   "cell_type": "markdown",
   "metadata": {
    "id": "kBX9EyMLOnXj"
   },
   "source": [
    "### PROBLEM 1\n",
    "\n",
    "**Solve for eigenvalues and eigenvectors of a symmetric matrix**\n",
    "\n",
    "1. Use numpy's $\\tt linalg$ package to find the eigenvalues and eigenvectors of the ff. symmetrix matrix *(15 pts.)*:\n",
    "\n",
    "$ \\begin{equation}\n",
    "{\\bf A} =\n",
    "\\begin{pmatrix}\n",
    "8 & -2 & -20 \\\\\n",
    "-2 & -3 & -9 \\\\\n",
    "-20 & -9 & -3\n",
    "\\end{pmatrix} \\end{equation} $\n",
    "\n",
    "2. Check your answer numerically; that is, check that $\\bf AV = VD$, where the $N$ x $N$ matrix $\\bf V$ has the eigenvectors as its columns and $\\bf D$ is the diagonal matrix with the eigenvalues $\\lambda_i$ as its diagonal entries. *(15 pts.)*"
   ]
  },
  {
   "cell_type": "code",
   "execution_count": 1,
   "metadata": {
    "id": "GABjwlXCR97i"
   },
   "outputs": [],
   "source": [
    "#Initializing packages\n",
    "import numpy as np\n",
    "from numpy.linalg import eigh\n",
    "from math import exp\n",
    "import matplotlib.pyplot as plt"
   ]
  },
  {
   "cell_type": "code",
   "execution_count": null,
   "metadata": {
    "colab": {
     "base_uri": "https://localhost:8080/"
    },
    "id": "TX4aT0pLdjx7",
    "outputId": "e85617e2-c69c-4ce0-9c32-ee94aa40be37"
   },
   "outputs": [
    {
     "name": "stdout",
     "output_type": "stream",
     "text": [
      "The eigenvectors of matrix A are [-0.551 -0.423 -0.719], [-0.463  0.872 -0.158], and [-0.694 -0.246  0.676] with corresponding eigenvalues -18.877, 0.506, and 26.371.\n",
      "The left and right hand sides of the equation are numerically equal, up to an accuracy of 1e-13.\n"
     ]
    }
   ],
   "source": [
    "#1.\n",
    "A = np.array([[8,-2,-20],[-2,-3,-9],[-20,-9,3]],float) #Given matrix\n",
    "x, V = eigh(A) #This built in function from numpy's linalg package numerically computes the eigenvalues and eigenvectors of the matrix input and assigns said values on the first and second variables, respectively.\n",
    "print(\"The eigenvectors of matrix A are \" + str(np.around(V[0], 3)) + \", \"  + str(np.around(V[1], 3)) + \", and \"  + str(np.around(V[2], 3)) + \" with corresponding eigenvalues \" +  str(round(x[0], 3)) + \", \"  + str(round(x[1], 3)) + \", and \"  + str(round(x[2],3)) + \".\")\n",
    "#The rounding of values to three decimal places is purely for presentation purposes; we can just use V[i] or x[i] for whatever computational need later on\n",
    "\n",
    "#2.\n",
    "lhs = A@V #Left hand side of the equation\n",
    "rhs = V@np.diag(x) #Right hand side of the equation\n",
    "error = abs(lhs-rhs) #3x3 matrix containing the absolute errors between the left and right hand sides of the equation\n",
    "accuracy = 1e-13\n",
    "count = 0 #Count of elements in the error matrix that is greater than the accuracy\n",
    "\n",
    "for row in error: #For loop over the rows of the error matrix\n",
    "  for k in row: #For loop over each element in each row of the error matrix\n",
    "    if k > accuracy:\n",
    "      count += 1\n",
    "\n",
    "if count == 0:\n",
    "    print(\"The left and right hand sides of the equation are numerically equal, up to an accuracy of \" + str(accuracy) + \".\")\n",
    "else:\n",
    "    print(\"The left and right hand sides of the equation are not numerically equal.\")"
   ]
  },
  {
   "cell_type": "markdown",
   "metadata": {
    "id": "CUWeLoEm0_wz"
   },
   "source": [
    "NOTES:\n",
    "- We use the @ operator in defining the left and right hand sides of the equation, which indicates matrix multiplication between the two arrays that @ is used on.\n",
    "- The code above prints the *else* statement if *accuracy* $= 10^{-14}$, which is essentially just machine precision error."
   ]
  },
  {
   "cell_type": "markdown",
   "metadata": {
    "id": "HceOjNu-VfN9"
   },
   "source": [
    "### PROBLEM 2\n",
    "\n",
    "**Solve a nonlinear equation using the relaxation method**\n",
    "\n",
    "Consider the equation $x=1- e^{-cx}$, where $c$ is a known parameter and $x$ is unknown. This equation arises in a variety of situations, including the physics of contact processes, mathematical models of epidemics, and the theory of random graphs.\n",
    "\n",
    "1. Write a program to solve this equation for $x$ using the relaxation method for the case $c = 2$. Calculate your solution to an accuracy of at least $10^{-6}$. *(10 pts.)*\n",
    "\n",
    "2. Modify your program to calculate the solution for values of $c$ from 0 to 3 in steps of 0.01. *(10 pts.)*\n",
    "\n",
    "3. Make a plot of $x$ as a function of $c$. Describe the different regimes that you see. *(10 pts.)*"
   ]
  },
  {
   "cell_type": "code",
   "execution_count": null,
   "metadata": {
    "colab": {
     "base_uri": "https://localhost:8080/"
    },
    "id": "p28JF-OQYock",
    "outputId": "b06deaf0-f6c2-4e24-e2bf-71ebda6dbe05"
   },
   "outputs": [
    {
     "name": "stdout",
     "output_type": "stream",
     "text": [
      "0.7968126311118457\n"
     ]
    }
   ],
   "source": [
    "#1.\n",
    "c = 2 #Given value for c\n",
    "accuracy = 1e-6 #Given accuracy\n",
    "error = 1.0 #Initial value given for allowable error for the purposes of our while loop\n",
    "xvalues = [0] #Array of values of x per iteration as it relaxes to a solution\n",
    "x = 1.0 #Random test value\n",
    "\n",
    "while error > accuracy:\n",
    "  x = 1 - exp(-c*x)\n",
    "  xvalues.append(x)\n",
    "  error = abs(xvalues[-1] - xvalues[-2]) #We repeat the loop until the difference between the last two solutions is less than 10^-6\n",
    "\n",
    "print(x)"
   ]
  },
  {
   "cell_type": "markdown",
   "metadata": {},
   "source": [
    "<span style=\"color:blue\"> It is best practice to code in a failsafe for the relaxation process - and in your numerical methods in general. What if the relaxation method never converges (all solutions are unstable or repelling)? A quick remedy would be to add in a maximum number of iterations so your code cannot run forever.\n",
    "</span>"
   ]
  },
  {
   "cell_type": "markdown",
   "metadata": {
    "id": "BW4zsjvZtlcN"
   },
   "source": [
    "In this program, we are iterating some random test value for x and equating it into the given nonlinear equation until it relaxes to its solution. For $c = 2$, this method converges to a value of around $0.796813$.\n",
    "\n",
    "NOTES: \\\\\n",
    "- The *xvalues* array starts as an array containing $0$. If it were to start off as an empty array, the *xvalues[-2]* call in the *error* variable wouldn't make sense in the first iteration.\n",
    "- We take the absolute value of the last two solutions for the *error* variable since we can get a negative value, preemptively ending our loop before *error* $< 10^{-6}$."
   ]
  },
  {
   "cell_type": "code",
   "execution_count": 2,
   "metadata": {
    "id": "FSNgqztBYboh"
   },
   "outputs": [],
   "source": [
    "#2.\n",
    "#We define the function below that gives us the solution to the nonlinear equation for a given value of c, following the same logic as above. This allows us to iterate and obtain solutions for values of c from 0 to 3.\n",
    "accuracy = 1e-6\n",
    "\n",
    "def eqn(c):\n",
    "  x = 1.0\n",
    "  error = 1.0\n",
    "  xvalues = [0]\n",
    "  while abs(error) > accuracy:\n",
    "    x = 1 - exp(-c*x)\n",
    "    xvalues.append(x)\n",
    "    error = xvalues[-1] - xvalues[-2]\n",
    "  return x\n",
    "\n",
    "#--------------------------------------------\n",
    "\n",
    "cpoints = np.arange(0, 3.01, 0.01) #Array of values from 0 to 3 with step size 0.01\n",
    "xpoints = [] #Empty array to be appended with corresponding solutions to the equation for the given value of c\n",
    "index = 0 #Index of first value in cpoints to be evaluated\n",
    "\n",
    "for k in cpoints: #Looping over the elements of cpoints maintains a one-to-one correspondence for our plot\n",
    "  xpoints.append(eqn(cpoints[index])) #Evaluating the k-th value of c in cpoints to the eqn function defined earlier and appending it into xpoints\n",
    "  index += 1"
   ]
  },
  {
   "cell_type": "markdown",
   "metadata": {
    "id": "oZkKtBLZfUcj"
   },
   "source": [
    "We define the function *eqn* that takes in values of *c* and returns the solution to allow iterative calculation of solutions of the equation for values of *c* from $0$ to $3$.\n",
    "\n",
    "NOTES\n",
    "- There are three ways to make the *cpoints* array; 1.) using np.linspace, 2.) using a while loop and adding 0.01 to c per iteration, and 3.) using np.arange. Using np.linspace is cumbersome, since we first have to count how many 0.01's there are from 0 to 3, and this computation has to be done every single time if we ever want to change the step size. A while loop, on the other hand, can easily accumulate machine precision error, since we are adding 0.01 + $\\varepsilon$ per iteration, which could eventually add up if we ever use a smaller step size. The best way is to use np.arange since this function gives the exact step size within the given range."
   ]
  },
  {
   "cell_type": "code",
   "execution_count": null,
   "metadata": {
    "colab": {
     "base_uri": "https://localhost:8080/",
     "height": 472
    },
    "id": "u3-tBL01rfBh",
    "outputId": "f6f9ed4c-56af-4db0-a4a7-aa080fdbb878"
   },
   "outputs": [
    {
     "data": {
      "image/png": "[encoded data removed]",
      "text/plain": [
       "<Figure size 640x480 with 1 Axes>"
      ]
     },
     "metadata": {},
     "output_type": "display_data"
    }
   ],
   "source": [
    "#3.\n",
    "fig, ax = plt.subplots()\n",
    "ax.scatter(cpoints,xpoints, marker = '.', color = 'b') #Scatter plot to see the spread or 'density' of the solutions\n",
    "ax.set_xlabel(\"c\")\n",
    "ax.set_ylabel(\"Solution\")\n",
    "ax.set_title(\"Solutions of the nonlinear equation for c = (0,3)\")\n",
    "plt.show()"
   ]
  },
  {
   "cell_type": "markdown",
   "metadata": {
    "id": "NYce3w8Wf94A"
   },
   "source": [
    "For $0 \\leq c \\leq 1$, the solution seems to uniformly converge to zero. For $c > 1$, the solution uniformly increases. Extending our plot below for $c > 3$, we see that the solution for larger values of $c$ seems to asymptotically approach $1$.\n",
    "\n",
    "\n",
    "\n",
    "This makes sense if we analyze our equation, $e^{-c}$ approaches zero for large $c$, and we are left with\n",
    "\n",
    "$$\n",
    "x = 1 - \\varepsilon^x \\simeq 1\n",
    "$$\n",
    "where $\\varepsilon$ is some small number."
   ]
  },
  {
   "cell_type": "code",
   "execution_count": null,
   "metadata": {
    "colab": {
     "base_uri": "https://localhost:8080/",
     "height": 430
    },
    "id": "K92jR7hVgsKR",
    "outputId": "7bc82826-cb1b-4f16-cb6d-908f79642c3e"
   },
   "outputs": [
    {
     "data": {
      "image/png": "[encoded data removed]",
      "text/plain": [
       "<Figure size 640x480 with 2 Axes>"
      ]
     },
     "metadata": {},
     "output_type": "display_data"
    }
   ],
   "source": [
    "cpoints1 = np.arange(3, 10.01, 0.01)\n",
    "cpoints2 = np.arange(8, 100.01, 0.01) #Starts at 8 instead of 10, since the initial value of eqn(10) makes the plot worse visually\n",
    "xpoints1 = []\n",
    "xpoints2 = []\n",
    "index1 = 0\n",
    "index2 = 0\n",
    "\n",
    "for k in cpoints1:\n",
    "  xpoints1.append(eqn(cpoints1[index1]))\n",
    "  index1 += 1\n",
    "\n",
    "for k in cpoints2:\n",
    "  xpoints2.append(eqn(cpoints2[index2]))\n",
    "  index2 += 1\n",
    "\n",
    "fig, (ax1, ax2) = plt.subplots(2)\n",
    "ax1.plot(cpoints1,xpoints1, color ='b')\n",
    "ax2.plot(cpoints2,xpoints2, color = 'b')\n",
    "ax1.axhline(y = 1, color = 'r', linestyle = '--')\n",
    "ax2.axhline(y = 1, color = 'r', linestyle = '--')\n",
    "plt.show()"
   ]
  },
  {
   "cell_type": "markdown",
   "metadata": {
    "id": "BY5x-mZsYoqG"
   },
   "source": [
    "### PROBLEM 3\n",
    "\n",
    "**Physics Application: Calculating the Lagrange point**\n",
    "\n",
    "_Refer to Exercise 6.16 of the Newman text._ The $L_1$ Lagrange point is the point between the Earth and the Moon at which a satellite will orbit the Earth in perfect synchrony with the Moon, staying always in between the two.\n",
    "\n",
    "Assuming circular orbits, and assuming that the Earth is much more massive than either the Moon or the satellite, the distance $r$ from the center of the Earth to the $L_1$ point satisfies\n",
    "$$ \\begin{equation}\n",
    "\\frac{GM}{r^2} - \\frac{Gm}{(R-r)^2} = \\omega^2 r,\n",
    "\\end{equation} $$\n",
    "where $R$ is the distance from the Earth to the Moon, $M$ and $m$ are the Earth and Moon masses, $G$ is Newton's gravitational constant, and $\\omega$ is the angular velocity of both the Moon and the satellite."
   ]
  },
  {
   "cell_type": "markdown",
   "metadata": {
    "id": "LlDDXIZ46CKU"
   },
   "source": [
    "Use Newton's method to solve for the distance r from the Earth to the $L_1$ point. Compute a solution accurate to at least four significant figures."
   ]
  },
  {
   "cell_type": "code",
   "execution_count": null,
   "metadata": {
    "colab": {
     "base_uri": "https://localhost:8080/"
    },
    "id": "Jiu5YAx6aMmq",
    "outputId": "d4442b4e-a791-479b-acf7-8128dfa11ce9"
   },
   "outputs": [
    {
     "name": "stdout",
     "output_type": "stream",
     "text": [
      "326045071.66038793\n"
     ]
    }
   ],
   "source": [
    "#Constants\n",
    "G = 6.674e-11\n",
    "M = 5.974e24\n",
    "m = 7.348e22\n",
    "R = 3.844e8\n",
    "omega = 2.662e-6\n",
    "\n",
    "#--------------------------------------------\n",
    "\n",
    "accuracy = 1e-4 #Given accuracy\n",
    "rvalues = [0]\n",
    "r = 3e8 #Since L1 has to be a point somewhere between Earth and the moon, choosing an initial value with a similar magnitude to R should be suitable\n",
    "error = 1.0\n",
    "\n",
    "while abs(error) > accuracy:\n",
    "  r += (G*M/r**2 - G*m/(R-r)**2 - (omega**2)*r)/(2*G*M/r**3 + 2*G*M/(R-r)**3 + omega**2) #Prescribed next choice r' by Newton's method\n",
    "  rvalues.append(r)\n",
    "  error = rvalues[-1] - rvalues[-2]\n",
    "\n",
    "print(r)"
   ]
  },
  {
   "cell_type": "markdown",
   "metadata": {
    "id": "JO2uibUHeltR"
   },
   "source": [
    "From the equation defining the Lagrange point, let\n",
    "$$f(r) = \\frac{GM}{r^2} - \\frac{Gm}{(R-r)^2} - ω^2 r$$\n",
    "\n",
    "Thus, we get\n",
    "$$f'(r) = -\\frac{2GM}{r^3} - \\frac{2Gm}{(R-r)^3} - ω^2 $$\n",
    "\n",
    "For our next iteration $r'$, we use the following prescripton by Newton's method: $r' = r - \\frac{f(r)}{f'(r)}$. In this solution, we used the same logic from the previous question, appending computed values of $L1$ into an array and taking the absolute difference between the last two iterations until we get an error value smaller than the given accuracy.\n",
    "\n",
    "Using this code, we get $L1 = 3.26045 \\times 10^8$ m. Solving the original polynomial numerically using Mathematica, we get obtain the expected 5 roots, with 4 of roots being imaginary numbers. The remaining real root is $L1 = 3.26045 \\times 10^8$ m, which is the same result we got from this program."
   ]
  }
 ],
 "metadata": {
  "colab": {
   "provenance": []
  },
  "kernelspec": {
   "display_name": "Python 3 (ipykernel)",
   "language": "python",
   "name": "python3"
  },
  "language_info": {
   "codemirror_mode": {
    "name": "ipython",
    "version": 3
   },
   "file_extension": ".py",
   "mimetype": "text/x-python",
   "name": "python",
   "nbconvert_exporter": "python",
   "pygments_lexer": "ipython3",
   "version": "3.10.9"
  }
 },
 "nbformat": 4,
 "nbformat_minor": 1
}
